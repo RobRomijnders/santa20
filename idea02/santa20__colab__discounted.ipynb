{
  "nbformat": 4,
  "nbformat_minor": 0,
  "metadata": {
    "colab": {
      "name": "santa20__colab__discounted.ipynb",
      "provenance": [],
      "collapsed_sections": []
    },
    "kernelspec": {
      "name": "python3",
      "display_name": "Python 3"
    }
  },
  "cells": [
    {
      "cell_type": "markdown",
      "metadata": {
        "id": "qVtAHqPAF4_R"
      },
      "source": [
        "# Santa 20 Kaggle competition\n",
        "\n",
        "See description at [our github](https://github.com/RobRomijnders/santa20)\n",
        "\n",
        "Part of Christmas holiday project by Vincent Warmerdam and Rob Romijnders.\n",
        "\n",
        "Feel free to use this code. Github repo has the appropriate MIT license."
      ]
    },
    {
      "cell_type": "code",
      "metadata": {
        "colab": {
          "base_uri": "https://localhost:8080/"
        },
        "id": "bBtsfVp_tgYw",
        "outputId": "171146b9-df5c-49a5-9025-f58b979203ee"
      },
      "source": [
        "# Install the Kaggle Environment\n",
        "\n",
        "%pip install kaggle_environments"
      ],
      "execution_count": 1,
      "outputs": [
        {
          "output_type": "stream",
          "text": [
            "Collecting kaggle_environments\n",
            "\u001b[?25l  Downloading https://files.pythonhosted.org/packages/d9/50/c72ac08c0bfa773510efa5776721d428fd12a93cafd6777e1cf8d0c8a6a4/kaggle_environments-1.7.3-py2.py3-none-any.whl (106kB)\n",
            "\r\u001b[K     |███                             | 10kB 15.7MB/s eta 0:00:01\r\u001b[K     |██████▏                         | 20kB 6.7MB/s eta 0:00:01\r\u001b[K     |█████████▏                      | 30kB 8.1MB/s eta 0:00:01\r\u001b[K     |████████████▎                   | 40kB 7.4MB/s eta 0:00:01\r\u001b[K     |███████████████▍                | 51kB 4.4MB/s eta 0:00:01\r\u001b[K     |██████████████████▍             | 61kB 4.8MB/s eta 0:00:01\r\u001b[K     |█████████████████████▌          | 71kB 4.5MB/s eta 0:00:01\r\u001b[K     |████████████████████████▋       | 81kB 5.0MB/s eta 0:00:01\r\u001b[K     |███████████████████████████▋    | 92kB 5.4MB/s eta 0:00:01\r\u001b[K     |██████████████████████████████▊ | 102kB 5.5MB/s eta 0:00:01\r\u001b[K     |████████████████████████████████| 112kB 5.5MB/s \n",
            "\u001b[?25hCollecting jsonschema>=3.0.1\n",
            "\u001b[?25l  Downloading https://files.pythonhosted.org/packages/c5/8f/51e89ce52a085483359217bc72cdbf6e75ee595d5b1d4b5ade40c7e018b8/jsonschema-3.2.0-py2.py3-none-any.whl (56kB)\n",
            "\r\u001b[K     |█████▉                          | 10kB 18.2MB/s eta 0:00:01\r\u001b[K     |███████████▋                    | 20kB 23.5MB/s eta 0:00:01\r\u001b[K     |█████████████████▌              | 30kB 27.2MB/s eta 0:00:01\r\u001b[K     |███████████████████████▎        | 40kB 30.3MB/s eta 0:00:01\r\u001b[K     |█████████████████████████████   | 51kB 32.7MB/s eta 0:00:01\r\u001b[K     |████████████████████████████████| 61kB 7.5MB/s \n",
            "\u001b[?25hRequirement already satisfied: setuptools in /usr/local/lib/python3.6/dist-packages (from jsonschema>=3.0.1->kaggle_environments) (51.0.0)\n",
            "Requirement already satisfied: attrs>=17.4.0 in /usr/local/lib/python3.6/dist-packages (from jsonschema>=3.0.1->kaggle_environments) (20.3.0)\n",
            "Requirement already satisfied: pyrsistent>=0.14.0 in /usr/local/lib/python3.6/dist-packages (from jsonschema>=3.0.1->kaggle_environments) (0.17.3)\n",
            "Requirement already satisfied: six>=1.11.0 in /usr/local/lib/python3.6/dist-packages (from jsonschema>=3.0.1->kaggle_environments) (1.15.0)\n",
            "Requirement already satisfied: importlib-metadata; python_version < \"3.8\" in /usr/local/lib/python3.6/dist-packages (from jsonschema>=3.0.1->kaggle_environments) (3.3.0)\n",
            "Requirement already satisfied: zipp>=0.5 in /usr/local/lib/python3.6/dist-packages (from importlib-metadata; python_version < \"3.8\"->jsonschema>=3.0.1->kaggle_environments) (3.4.0)\n",
            "Requirement already satisfied: typing-extensions>=3.6.4; python_version < \"3.8\" in /usr/local/lib/python3.6/dist-packages (from importlib-metadata; python_version < \"3.8\"->jsonschema>=3.0.1->kaggle_environments) (3.7.4.3)\n",
            "\u001b[31mERROR: nbclient 0.5.1 has requirement jupyter-client>=6.1.5, but you'll have jupyter-client 5.3.5 which is incompatible.\u001b[0m\n",
            "Installing collected packages: jsonschema, kaggle-environments\n",
            "  Found existing installation: jsonschema 2.6.0\n",
            "    Uninstalling jsonschema-2.6.0:\n",
            "      Successfully uninstalled jsonschema-2.6.0\n",
            "Successfully installed jsonschema-3.2.0 kaggle-environments-1.7.3\n"
          ],
          "name": "stdout"
        }
      ]
    },
    {
      "cell_type": "code",
      "metadata": {
        "id": "X6NwaExxiu4Y"
      },
      "source": [
        "from pprint import pprint \n",
        "from typing import Tuple\n",
        "\n",
        "import copy\n",
        "import matplotlib.pylab as plt \n",
        "import numpy as np\n",
        "import random\n",
        "\n",
        "class Bots:\n",
        "    def __init__(self, \n",
        "                 prior: Tuple[int, int] = (10, 10), \n",
        "                 decay: float = 1.0, \n",
        "                 arm_fixed: int = 0):\n",
        "        # Prototype distribution for each arm\n",
        "        self.distr = {\"prior\": prior, \"data\": []}\n",
        "\n",
        "        # Put all arms in a dict (to be initialized at first call)\n",
        "        self.arms_beliefs = None\n",
        "\n",
        "        # Decay factor for arm beliefs\n",
        "        self.decay = decay\n",
        "\n",
        "        # Lists to log the actions taken\n",
        "        self.actions_ours = []\n",
        "        self.actions_theirs = []\n",
        "\n",
        "        self.counts = {}\n",
        "\n",
        "        # Fixed arm (used for debugging)\n",
        "        self.arm_fixed = arm_fixed\n",
        "\n",
        "        # Datastructures to log the rewards\n",
        "        self.rewards_prev = 0\n",
        "        self.rewards = []\n",
        "\n",
        "        # Decay coefficients for the parameters of our distributions\n",
        "        num_steps_total = 2000\n",
        "        self.coeffs_all = np.array([self.decay**(num_steps_total - i - 1) \n",
        "                                    for i in range(num_steps_total)])\n",
        "\n",
        "    def log_obs(self, obs):\n",
        "        \"\"\"Log the observations.\"\"\"\n",
        "        if len(obs.lastActions) > 0:\n",
        "          self.rewards.append(obs.reward - self.rewards_prev)\n",
        "          self.actions_ours.append(obs.lastActions[obs.agentIndex])\n",
        "          self.actions_theirs.append(obs.lastActions[1 if obs.agentIndex == 0 else 0])\n",
        "\n",
        "          # Update total reward\n",
        "          self.rewards_prev = obs.reward\n",
        "\n",
        "    def random_agent(self, observation, configuration):\n",
        "        \"\"\"Agent for taking a random action.\"\"\"\n",
        "        self.log_obs(observation)\n",
        "        return random.randrange(configuration.banditCount)\n",
        "\n",
        "    def fixed_agent(self, observation, configuration):\n",
        "        \"\"\"Agent for taking a fixed action.\"\"\"\n",
        "        self.log_obs(observation)\n",
        "\n",
        "        if self.arms_beliefs is None:\n",
        "            # Init priors on the first step\n",
        "            self.arms_beliefs = {k: copy.deepcopy(self.distr) for k in \n",
        "                                 range(configuration.banditCount)}\n",
        "        else:\n",
        "            prev_action = self.actions_ours[-1]\n",
        "            if len(self.rewards) > 0:\n",
        "                self.arms_beliefs[prev_action]['data'].append(self.rewards[-1])\n",
        "\n",
        "        # For debugging: take a different, fixed, action after first half\n",
        "        if observation.step > 1000:\n",
        "          return self.arm_fixed + 1\n",
        "        return self.arm_fixed  # Fixed action\n",
        "\n",
        "    def update_beliefs(self, observation, configuration):\n",
        "        \"\"\"Update the beliefs for each arm.\n",
        "        \n",
        "        .update_beliefs() should be called after .log_obs() so that the list\n",
        "        of rewards has been updated for this round.        \n",
        "        \"\"\"\n",
        "        if self.arms_beliefs is None:\n",
        "            # Init priors on the first step\n",
        "            self.arms_beliefs = {k: copy.deepcopy(self.distr) \n",
        "                                 for k in range(configuration.banditCount)}\n",
        "        else:\n",
        "            prev_action = self.actions_ours[-1]\n",
        "            if len(self.rewards) > 0:\n",
        "                self.arms_beliefs[prev_action]['data'].append(self.rewards[-1])\n",
        "\n",
        "    def agent_thompson(self, observation, configuration):\n",
        "        \"\"\"Thompson sampling without decay.\"\"\"\n",
        "        self.log_obs(observation)\n",
        "        self.update_beliefs(observation, configuration)\n",
        "\n",
        "        pvals = []\n",
        "        for key, distr in self.arms_beliefs.items():\n",
        "            # Observed counts\n",
        "            observed_a = sum(distr[\"data\"])\n",
        "            observed_b = len(distr[\"data\"]) - observed_a\n",
        "\n",
        "            # Add prior counts\n",
        "            beta_a = observed_a + distr[\"prior\"][0]\n",
        "            beta_b = observed_b + distr[\"prior\"][1]\n",
        "\n",
        "            # Draw p for Bernoulli distribution from Beta distribution\n",
        "            pvals.append((key, np.random.beta(beta_a, beta_b)))\n",
        "\n",
        "        # Take the action with highest p\n",
        "        return max(pvals, key=lambda d: d[1])[0]\n",
        "\n",
        "    def agent_thompson_decay(self, observation, configuration):\n",
        "        \"\"\"Thompson sampling with decay.\"\"\"\n",
        "        self.log_obs(observation)\n",
        "        self.update_beliefs(observation, configuration)\n",
        "\n",
        "        pvals = []\n",
        "        for key, distr in self.arms_beliefs.items():\n",
        "            # Observed counts\n",
        "            data = np.array(distr[\"data\"])\n",
        "            num_steps = len(data)\n",
        "\n",
        "            beta_a = distr[\"prior\"][0]\n",
        "            beta_b = distr[\"prior\"][1]\n",
        "\n",
        "            if num_steps > 0:\n",
        "                # Slice decay coefficients such that coeffs[-1] is always 1.0\n",
        "                coeffs = self.coeffs_all[-num_steps:] \n",
        "\n",
        "                # Multiply 'coeffs' with 'data' to apply more decay to earlier\n",
        "                # observations.\n",
        "                beta_a += np.sum(coeffs * data)\n",
        "                beta_b += np.sum(coeffs * (1-data))\n",
        "\n",
        "            # Draw p for Bernoulli distribution from Beta distribution\n",
        "            pvals.append((key, np.random.beta(beta_a, beta_b)))\n",
        "\n",
        "        # Take the action with highest p\n",
        "        return max(pvals, key=lambda d: d[1])[0]"
      ],
      "execution_count": 2,
      "outputs": []
    },
    {
      "cell_type": "code",
      "metadata": {
        "id": "bwtEm6vXiyUI",
        "colab": {
          "base_uri": "https://localhost:8080/"
        },
        "outputId": "4c93b28f-e5fd-4a88-b8bf-fbd6de54dac2"
      },
      "source": [
        "from kaggle_environments import make\n",
        "import tqdm\n",
        "\n",
        "# Each observation has keys: \n",
        "# ['agentIndex', 'lastActions', 'remainingOverageTime', 'reward', 'step']\n",
        "\n",
        "bot1, bot2 = Bots(prior=(2,10), decay=1.0), Bots(prior=(1, 1), decay=0.9)\n",
        "env = make(\"mab\", debug=True)\n",
        "res = env.run([bot1.agent_thompson, bot2.agent_thompson_decay])"
      ],
      "execution_count": 3,
      "outputs": [
        {
          "output_type": "stream",
          "text": [
            "Loading environment football failed: No module named 'gfootball'\n"
          ],
          "name": "stdout"
        }
      ]
    },
    {
      "cell_type": "code",
      "metadata": {
        "colab": {
          "base_uri": "https://localhost:8080/",
          "height": 281
        },
        "id": "Ei73iBWWk7jX",
        "outputId": "ad01af51-1ea2-4090-aace-675f6658884a"
      },
      "source": [
        "plt.figure()\n",
        "plt.plot(np.cumsum(bot1.rewards), label=\"agent_thompson\")\n",
        "plt.plot(np.cumsum(bot2.rewards), label=\"agent_thompson_decay\")\n",
        "plt.legend()\n",
        "plt.title(\"Score over time\");"
      ],
      "execution_count": 5,
      "outputs": [
        {
          "output_type": "display_data",
          "data": {
            "image/png": "[encoded data removed]",
            "text/plain": [
              "<Figure size 432x288 with 1 Axes>"
            ]
          },
          "metadata": {
            "tags": [],
            "needs_background": "light"
          }
        }
      ]
    },
    {
      "cell_type": "code",
      "metadata": {
        "colab": {
          "base_uri": "https://localhost:8080/",
          "height": 278
        },
        "id": "0HLSyFiWGMAF",
        "outputId": "fd13b0c7-0f7d-48a1-fcf0-d75bacca75f3"
      },
      "source": [
        "plt.figure()\n",
        "plt.hist([len(d[\"data\"]) for d in bot2.arms_beliefs.values()], bins=100)\n",
        "plt.xlabel(\"Number of pulls\")\n",
        "plt.ylabel(\"Empirical Histogram\")\n",
        "plt.show()"
      ],
      "execution_count": 7,
      "outputs": [
        {
          "output_type": "display_data",
          "data": {
            "image/png": "[encoded data removed]",
            "text/plain": [
              "<Figure size 432x288 with 1 Axes>"
            ]
          },
          "metadata": {
            "tags": [],
            "needs_background": "light"
          }
        }
      ]
    },
    {
      "cell_type": "markdown",
      "metadata": {
        "id": "YWwCgkivFWOd"
      },
      "source": [
        "# Plots for debugging\n",
        "Uncomment at your own risk :)"
      ]
    },
    {
      "cell_type": "code",
      "metadata": {
        "id": "UL58W7ZSk6hb"
      },
      "source": [
        "# print(f\"Number of arms found {len(b2.arms_beliefs)}\")\n",
        "\n",
        "# bonuses = []\n",
        "\n",
        "# for num_arm in [ARM_FIXED, ARM_FIXED+1]:\n",
        "#   # Rewards observed for arm 'num_arm'\n",
        "#   rewards = b2.arms_beliefs[num_arm][\"h\"][1:]  # Skip the prior at index 0\n",
        "\n",
        "#   reward_cumulative = np.cumsum(rewards)\n",
        "#   num_acted = len(reward_cumulative)  # Number of times this arm was taken as action\n",
        "\n",
        "#   # Global expected reward rate\n",
        "#   reward_rate = np.mean(rewards)\n",
        "#   reward_total = np.sum(rewards)\n",
        "#   alpha = 0.5\n",
        "#   p0 = reward_total * ( 1 - alpha) / (1 - alpha ** num_acted)\n",
        "#   p0 = min((p0, 1.))\n",
        "\n",
        "#   reward_cumulative_expected = [reward_rate * i for i in range(1, num_acted + 1)]\n",
        "#   reward_cumulative_exponential = np.cumsum([p0 * alpha ** t for t in range(num_acted)])\n",
        "\n",
        "#   bonus = np.mean((reward_cumulative - reward_cumulative_exponential) / reward_total)\n",
        "#   bonuses.append(bonus)\n",
        "\n",
        "#   plt.figure()\n",
        "#   plt.title(f\"Arm {num_arm} - early bonus {bonus:4.2f}\")\n",
        "#   plt.plot(reward_cumulative, label=\"Empirical\")\n",
        "#   plt.plot(reward_cumulative_expected, label=\"Expected alpha=1\")\n",
        "#   # plt.plot(reward_cumulative_exponential, label=\"Expected alpha=alpha\")\n",
        "#   # plt.ylim([0, num_acted])\n",
        "#   plt.xlabel(f\"Num acted\")\n",
        "#   plt.ylabel(\"Cumulative reward\")\n",
        "#   plt.legend()"
      ],
      "execution_count": 8,
      "outputs": []
    },
    {
      "cell_type": "code",
      "metadata": {
        "id": "EOWCT8hijdAT"
      },
      "source": [
        "# plt.figure()\n",
        "# plt.title(f\"Mean bonus {np.mean(bonuses):5.2f}\")\n",
        "# plt.hist(bonuses)\n",
        "# plt.xlabel(\"Bonus value\")\n",
        "# plt.ylabel(\"Empirical histogram\")\n",
        "# plt.show()"
      ],
      "execution_count": 9,
      "outputs": []
    },
    {
      "cell_type": "code",
      "metadata": {
        "id": "_3Nkn7a2Ip_0",
        "colab": {
          "base_uri": "https://localhost:8080/"
        },
        "outputId": "72646e86-79c6-4e80-a8cd-49d8eb95d90c"
      },
      "source": [
        "def best_of_n(agents, n=20):\n",
        "    \"\"\"Calculate best agent averaged in n runs.\"\"\"\n",
        "\n",
        "    env = make(\"mab\", debug=True)\n",
        "\n",
        "    # Lists for accumulating data\n",
        "    wins = []\n",
        "    p1_scores = []\n",
        "    p2_scores = []\n",
        "\n",
        "    for i in tqdm.tqdm(range(n)):\n",
        "        # Construct new instances of agent\n",
        "        agent1 = agents[0]()\n",
        "        agent2 = agents[1]()\n",
        "\n",
        "        # Run in environment\n",
        "        env.run([agent1, agent2])\n",
        "        p1_score = env.steps[-1][0]['reward']\n",
        "        p2_score = env.steps[-1][1]['reward']\n",
        "\n",
        "        p1_scores.append(p1_score)\n",
        "        p2_scores.append(p2_score)\n",
        "\n",
        "        env.reset()\n",
        "        wins.append(p1_score > p2_score)\n",
        "        print(f\"Round {i+1}: {p1_score} - {p2_score}\")\n",
        "\n",
        "    print(f\"Agent 1 won: {round(sum(wins)/len(wins), ndigits=4)}\")\n",
        "\n",
        "    print(\"Scores for each player:\")\n",
        "    print(p1_scores)\n",
        "    print(p2_scores)\n",
        "\n",
        "best_of_n(agents=[\n",
        "                  lambda : Bots(prior=(1,1), decay=1.0).agent_thompson,\n",
        "                  lambda : Bots(prior=(1,1), decay=0.8).agent_thompson_decay\n",
        "])"
      ],
      "execution_count": 10,
      "outputs": [
        {
          "output_type": "stream",
          "text": [
            "  5%|▌         | 1/20 [00:15<04:47, 15.13s/it]"
          ],
          "name": "stderr"
        },
        {
          "output_type": "stream",
          "text": [
            "Round 1: 616 - 633\n"
          ],
          "name": "stdout"
        },
        {
          "output_type": "stream",
          "text": [
            "\r 10%|█         | 2/20 [00:29<04:30, 15.03s/it]"
          ],
          "name": "stderr"
        },
        {
          "output_type": "stream",
          "text": [
            "Round 2: 652 - 665\n"
          ],
          "name": "stdout"
        },
        {
          "output_type": "stream",
          "text": [
            "\r 15%|█▌        | 3/20 [00:44<04:14, 14.98s/it]"
          ],
          "name": "stderr"
        },
        {
          "output_type": "stream",
          "text": [
            "Round 3: 659 - 679\n"
          ],
          "name": "stdout"
        },
        {
          "output_type": "stream",
          "text": [
            "\r 20%|██        | 4/20 [00:59<03:58, 14.91s/it]"
          ],
          "name": "stderr"
        },
        {
          "output_type": "stream",
          "text": [
            "Round 4: 580 - 635\n"
          ],
          "name": "stdout"
        },
        {
          "output_type": "stream",
          "text": [
            "\r 25%|██▌       | 5/20 [01:14<03:44, 14.94s/it]"
          ],
          "name": "stderr"
        },
        {
          "output_type": "stream",
          "text": [
            "Round 5: 642 - 643\n"
          ],
          "name": "stdout"
        },
        {
          "output_type": "stream",
          "text": [
            "\r 30%|███       | 6/20 [01:29<03:29, 14.95s/it]"
          ],
          "name": "stderr"
        },
        {
          "output_type": "stream",
          "text": [
            "Round 6: 699 - 642\n"
          ],
          "name": "stdout"
        },
        {
          "output_type": "stream",
          "text": [
            "\r 35%|███▌      | 7/20 [01:44<03:14, 14.97s/it]"
          ],
          "name": "stderr"
        },
        {
          "output_type": "stream",
          "text": [
            "Round 7: 667 - 651\n"
          ],
          "name": "stdout"
        },
        {
          "output_type": "stream",
          "text": [
            "\r 40%|████      | 8/20 [01:59<02:59, 14.96s/it]"
          ],
          "name": "stderr"
        },
        {
          "output_type": "stream",
          "text": [
            "Round 8: 648 - 585\n"
          ],
          "name": "stdout"
        },
        {
          "output_type": "stream",
          "text": [
            "\r 45%|████▌     | 9/20 [02:14<02:44, 14.95s/it]"
          ],
          "name": "stderr"
        },
        {
          "output_type": "stream",
          "text": [
            "Round 9: 656 - 663\n"
          ],
          "name": "stdout"
        },
        {
          "output_type": "stream",
          "text": [
            "\r 50%|█████     | 10/20 [02:29<02:29, 14.98s/it]"
          ],
          "name": "stderr"
        },
        {
          "output_type": "stream",
          "text": [
            "Round 10: 618 - 627\n"
          ],
          "name": "stdout"
        },
        {
          "output_type": "stream",
          "text": [
            "\r 55%|█████▌    | 11/20 [02:44<02:15, 15.05s/it]"
          ],
          "name": "stderr"
        },
        {
          "output_type": "stream",
          "text": [
            "Round 11: 585 - 616\n"
          ],
          "name": "stdout"
        },
        {
          "output_type": "stream",
          "text": [
            "\r 60%|██████    | 12/20 [02:59<02:00, 15.06s/it]"
          ],
          "name": "stderr"
        },
        {
          "output_type": "stream",
          "text": [
            "Round 12: 573 - 641\n"
          ],
          "name": "stdout"
        },
        {
          "output_type": "stream",
          "text": [
            "\r 65%|██████▌   | 13/20 [03:14<01:44, 14.97s/it]"
          ],
          "name": "stderr"
        },
        {
          "output_type": "stream",
          "text": [
            "Round 13: 600 - 612\n"
          ],
          "name": "stdout"
        },
        {
          "output_type": "stream",
          "text": [
            "\r 70%|███████   | 14/20 [03:29<01:29, 14.91s/it]"
          ],
          "name": "stderr"
        },
        {
          "output_type": "stream",
          "text": [
            "Round 14: 606 - 567\n"
          ],
          "name": "stdout"
        },
        {
          "output_type": "stream",
          "text": [
            "\r 75%|███████▌  | 15/20 [03:44<01:14, 14.97s/it]"
          ],
          "name": "stderr"
        },
        {
          "output_type": "stream",
          "text": [
            "Round 15: 608 - 609\n"
          ],
          "name": "stdout"
        },
        {
          "output_type": "stream",
          "text": [
            "\r 80%|████████  | 16/20 [03:59<00:59, 14.96s/it]"
          ],
          "name": "stderr"
        },
        {
          "output_type": "stream",
          "text": [
            "Round 16: 538 - 567\n"
          ],
          "name": "stdout"
        },
        {
          "output_type": "stream",
          "text": [
            "\r 85%|████████▌ | 17/20 [04:14<00:44, 14.98s/it]"
          ],
          "name": "stderr"
        },
        {
          "output_type": "stream",
          "text": [
            "Round 17: 652 - 588\n"
          ],
          "name": "stdout"
        },
        {
          "output_type": "stream",
          "text": [
            "\r 90%|█████████ | 18/20 [04:28<00:29, 14.87s/it]"
          ],
          "name": "stderr"
        },
        {
          "output_type": "stream",
          "text": [
            "Round 18: 637 - 633\n"
          ],
          "name": "stdout"
        },
        {
          "output_type": "stream",
          "text": [
            "\r 95%|█████████▌| 19/20 [04:44<00:14, 14.95s/it]"
          ],
          "name": "stderr"
        },
        {
          "output_type": "stream",
          "text": [
            "Round 19: 669 - 641\n"
          ],
          "name": "stdout"
        },
        {
          "output_type": "stream",
          "text": [
            "100%|██████████| 20/20 [04:59<00:00, 14.96s/it]"
          ],
          "name": "stderr"
        },
        {
          "output_type": "stream",
          "text": [
            "Round 20: 631 - 687\n",
            "Agent 1 won: 0.35\n",
            "Scores for each player:\n",
            "[616, 652, 659, 580, 642, 699, 667, 648, 656, 618, 585, 573, 600, 606, 608, 538, 652, 637, 669, 631]\n",
            "[633, 665, 679, 635, 643, 642, 651, 585, 663, 627, 616, 641, 612, 567, 609, 567, 588, 633, 641, 687]\n"
          ],
          "name": "stdout"
        },
        {
          "output_type": "stream",
          "text": [
            "\n"
          ],
          "name": "stderr"
        }
      ]
    },
    {
      "cell_type": "markdown",
      "metadata": {
        "id": "ou5Xa7a8zzGq"
      },
      "source": [
        "636, 642, 648, 721, 562, 653, 626, 664, 658, 635, 627, 626, 676, 714, 677, 578, 548, 665, 655, 673, "
      ]
    },
    {
      "cell_type": "code",
      "metadata": {
        "id": "cKvXvkyWPycE"
      },
      "source": [
        "# 0.9\n",
        "data = [756, 722, 708, 714, 689, 603, 568, 698, 706, 688, 640, 653, 706, 667, 635, 723, 609, 721, 747, 651,]\n",
        "print(f\"Mean +- std: {np.mean(data):5.2f} +- {np.std(data):5.2f}\")\n",
        "\n",
        "# 0.8\n",
        "data = [661, 648, 724, 688, 687, 720, 669, 708, 572, 538, 658, 650, 646, 758, 622, 676, 715, 623, 657, 729,]\n",
        "print(f\"Mean +- std: {np.mean(data):5.2f} +- {np.std(data):5.2f}\")\n",
        "\n",
        "\n",
        "# 0.7\n",
        "data = [600, 707, 639, 741, 664, 621, 642, 700, 654, 639, 753, 670, 686, 610, 589, 753, 717, 718, 591, 691,]\n",
        "print(f\"Mean +- std: {np.mean(data):5.2f} +- {np.std(data):5.2f}\")\n",
        "\n",
        "# 0.2\n",
        "data = [636, 642, 648, 721, 562, 653, 626, 664, 658, 635, 627, 626, 676, 714, 677, 578, 548, 665, 655, 673, ]\n",
        "print(f\"Mean +- std: {np.mean(data):5.2f} +- {np.std(data):5.2f}\")\n",
        "\n",
        "# 0.8 with opponent with prior (1,1)\n",
        "data = [652, 653, 549, 609, 569, 629, 614, 624, 573, 619, 596, 622, 589, 690, 676, 623, 667, 571, 665, 628]\n",
        "print(f\"Mean +- std: {np.mean(data):5.2f} +- {np.std(data):5.2f}\")\n"
      ],
      "execution_count": null,
      "outputs": []
    },
    {
      "cell_type": "code",
      "metadata": {
        "id": "x5fki2PeZqmi"
      },
      "source": [
        ""
      ],
      "execution_count": null,
      "outputs": []
    }
  ]
}